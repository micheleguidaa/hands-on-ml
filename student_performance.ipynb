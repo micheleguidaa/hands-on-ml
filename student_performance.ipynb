# Dataset di esempio (puoi sostituire con il tuo file)
url = "https://raw.githubusercontent.com/mwaskom/seaborn-data/master/exam.csv"
df = pd.read_csv(url)
df.head()
